{
  "nbformat": 4,
  "nbformat_minor": 0,
  "metadata": {
    "colab": {
      "name": "pets_classification.ipynb",
      "provenance": [],
      "authorship_tag": "ABX9TyOW2HuAYz0hAJImPq/bmHDP",
      "include_colab_link": true
    },
    "kernelspec": {
      "name": "python3",
      "display_name": "Python 3"
    },
    "language_info": {
      "name": "python"
    },
    "widgets": {
      "application/vnd.jupyter.widget-state+json": {
        "69bf5ec7c4454e1b9b55387b462818d8": {
          "model_module": "@jupyter-widgets/controls",
          "model_name": "VBoxModel",
          "model_module_version": "1.5.0",
          "state": {
            "_view_name": "VBoxView",
            "_dom_classes": [],
            "_model_name": "VBoxModel",
            "_view_module": "@jupyter-widgets/controls",
            "_model_module_version": "1.5.0",
            "_view_count": null,
            "_view_module_version": "1.5.0",
            "box_style": "",
            "layout": "IPY_MODEL_387918f62599414996c254f03fff86be",
            "_model_module": "@jupyter-widgets/controls",
            "children": [
              "IPY_MODEL_e6853d086ce04c90abe6f3a35012068f",
              "IPY_MODEL_99f6444427394b54b61e40b25c67f28f",
              "IPY_MODEL_6d6692fd300b4b19a8c75fa58d944283",
              "IPY_MODEL_c935a4adec5c4375832b512c679a257c",
              "IPY_MODEL_37de93fcd55f4e3e9a8585d493f7f09e"
            ]
          }
        },
        "387918f62599414996c254f03fff86be": {
          "model_module": "@jupyter-widgets/base",
          "model_name": "LayoutModel",
          "model_module_version": "1.2.0",
          "state": {
            "_view_name": "LayoutView",
            "grid_template_rows": null,
            "right": null,
            "justify_content": null,
            "_view_module": "@jupyter-widgets/base",
            "overflow": null,
            "_model_module_version": "1.2.0",
            "_view_count": null,
            "flex_flow": null,
            "width": null,
            "min_width": null,
            "border": null,
            "align_items": null,
            "bottom": null,
            "_model_module": "@jupyter-widgets/base",
            "top": null,
            "grid_column": null,
            "overflow_y": null,
            "overflow_x": null,
            "grid_auto_flow": null,
            "grid_area": null,
            "grid_template_columns": null,
            "flex": null,
            "_model_name": "LayoutModel",
            "justify_items": null,
            "grid_row": null,
            "max_height": null,
            "align_content": null,
            "visibility": null,
            "align_self": null,
            "height": null,
            "min_height": null,
            "padding": null,
            "grid_auto_rows": null,
            "grid_gap": null,
            "max_width": null,
            "order": null,
            "_view_module_version": "1.2.0",
            "grid_template_areas": null,
            "object_position": null,
            "object_fit": null,
            "grid_auto_columns": null,
            "margin": null,
            "display": null,
            "left": null
          }
        },
        "e6853d086ce04c90abe6f3a35012068f": {
          "model_module": "@jupyter-widgets/controls",
          "model_name": "LabelModel",
          "model_module_version": "1.5.0",
          "state": {
            "_view_name": "LabelView",
            "style": "IPY_MODEL_7c33fe1a153a4c618e43a4eb9bc4bc38",
            "_dom_classes": [],
            "description": "",
            "_model_name": "LabelModel",
            "placeholder": "​",
            "_view_module": "@jupyter-widgets/controls",
            "_model_module_version": "1.5.0",
            "value": "Select your image!",
            "_view_count": null,
            "_view_module_version": "1.5.0",
            "description_tooltip": null,
            "_model_module": "@jupyter-widgets/controls",
            "layout": "IPY_MODEL_6691f2c303cf43338677258e7e26968d"
          }
        },
        "99f6444427394b54b61e40b25c67f28f": {
          "model_module": "@jupyter-widgets/controls",
          "model_name": "FileUploadModel",
          "model_module_version": "1.5.0",
          "state": {
            "_view_name": "FileUploadView",
            "_counter": 2,
            "style": "IPY_MODEL_5b2de70b84a2446f8df16f24e771d075",
            "_dom_classes": [],
            "description": "Upload",
            "multiple": false,
            "_model_name": "FileUploadModel",
            "data": [
              null
            ],
            "button_style": "",
            "_view_module": "@jupyter-widgets/controls",
            "_model_module_version": "1.5.0",
            "accept": "",
            "_view_count": null,
            "disabled": false,
            "_view_module_version": "1.5.0",
            "error": "",
            "description_tooltip": null,
            "metadata": [
              {
                "name": "0a3f1980f32c8656d3bb9ba3143aa060.jpg",
                "type": "image/jpeg",
                "size": 101984,
                "lastModified": 1632313792000
              }
            ],
            "_model_module": "@jupyter-widgets/controls",
            "layout": "IPY_MODEL_a5f24e74d5604255b701dd2eb5a6e8eb",
            "icon": "upload"
          }
        },
        "6d6692fd300b4b19a8c75fa58d944283": {
          "model_module": "@jupyter-widgets/controls",
          "model_name": "ButtonModel",
          "model_module_version": "1.5.0",
          "state": {
            "_view_name": "ButtonView",
            "style": "IPY_MODEL_fe2f40b595d3471fbb3d38644c2d7f15",
            "_dom_classes": [],
            "description": "Classify",
            "_model_name": "ButtonModel",
            "button_style": "",
            "_view_module": "@jupyter-widgets/controls",
            "_model_module_version": "1.5.0",
            "tooltip": "",
            "_view_count": null,
            "disabled": false,
            "_view_module_version": "1.5.0",
            "layout": "IPY_MODEL_d8ab48e1ab0744b5ba31f9ba65d438cb",
            "_model_module": "@jupyter-widgets/controls",
            "icon": ""
          }
        },
        "c935a4adec5c4375832b512c679a257c": {
          "model_module": "@jupyter-widgets/output",
          "model_name": "OutputModel",
          "model_module_version": "1.0.0",
          "state": {
            "_view_name": "OutputView",
            "msg_id": "",
            "_dom_classes": [],
            "_model_name": "OutputModel",
            "outputs": [
              {
                "output_type": "display_data",
                "data": {
                  "image/png": "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\n",
                  "text/plain": "<PIL.Image.Image image mode=RGB size=96x128 at 0x7FDE77275950>"
                },
                "metadata": {}
              }
            ],
            "_view_module": "@jupyter-widgets/output",
            "_model_module_version": "1.0.0",
            "_view_count": null,
            "_view_module_version": "1.0.0",
            "layout": "IPY_MODEL_8e571178c06b42b09af21de3ac8fdca0",
            "_model_module": "@jupyter-widgets/output"
          }
        },
        "37de93fcd55f4e3e9a8585d493f7f09e": {
          "model_module": "@jupyter-widgets/controls",
          "model_name": "LabelModel",
          "model_module_version": "1.5.0",
          "state": {
            "_view_name": "LabelView",
            "style": "IPY_MODEL_fb908214bbbc4561968e05de905d2da7",
            "_dom_classes": [],
            "description": "",
            "_model_name": "LabelModel",
            "placeholder": "​",
            "_view_module": "@jupyter-widgets/controls",
            "_model_module_version": "1.5.0",
            "value": "Prediction: Dog; Probability: 0.9969",
            "_view_count": null,
            "_view_module_version": "1.5.0",
            "description_tooltip": null,
            "_model_module": "@jupyter-widgets/controls",
            "layout": "IPY_MODEL_14ca62420d2c476db90aad1ca8a5e0d9"
          }
        },
        "7c33fe1a153a4c618e43a4eb9bc4bc38": {
          "model_module": "@jupyter-widgets/controls",
          "model_name": "DescriptionStyleModel",
          "model_module_version": "1.5.0",
          "state": {
            "_view_name": "StyleView",
            "_model_name": "DescriptionStyleModel",
            "description_width": "",
            "_view_module": "@jupyter-widgets/base",
            "_model_module_version": "1.5.0",
            "_view_count": null,
            "_view_module_version": "1.2.0",
            "_model_module": "@jupyter-widgets/controls"
          }
        },
        "6691f2c303cf43338677258e7e26968d": {
          "model_module": "@jupyter-widgets/base",
          "model_name": "LayoutModel",
          "model_module_version": "1.2.0",
          "state": {
            "_view_name": "LayoutView",
            "grid_template_rows": null,
            "right": null,
            "justify_content": null,
            "_view_module": "@jupyter-widgets/base",
            "overflow": null,
            "_model_module_version": "1.2.0",
            "_view_count": null,
            "flex_flow": null,
            "width": null,
            "min_width": null,
            "border": null,
            "align_items": null,
            "bottom": null,
            "_model_module": "@jupyter-widgets/base",
            "top": null,
            "grid_column": null,
            "overflow_y": null,
            "overflow_x": null,
            "grid_auto_flow": null,
            "grid_area": null,
            "grid_template_columns": null,
            "flex": null,
            "_model_name": "LayoutModel",
            "justify_items": null,
            "grid_row": null,
            "max_height": null,
            "align_content": null,
            "visibility": null,
            "align_self": null,
            "height": null,
            "min_height": null,
            "padding": null,
            "grid_auto_rows": null,
            "grid_gap": null,
            "max_width": null,
            "order": null,
            "_view_module_version": "1.2.0",
            "grid_template_areas": null,
            "object_position": null,
            "object_fit": null,
            "grid_auto_columns": null,
            "margin": null,
            "display": null,
            "left": null
          }
        },
        "5b2de70b84a2446f8df16f24e771d075": {
          "model_module": "@jupyter-widgets/controls",
          "model_name": "ButtonStyleModel",
          "model_module_version": "1.5.0",
          "state": {
            "_view_name": "StyleView",
            "_model_name": "ButtonStyleModel",
            "_view_module": "@jupyter-widgets/base",
            "_model_module_version": "1.5.0",
            "_view_count": null,
            "button_color": null,
            "font_weight": "",
            "_view_module_version": "1.2.0",
            "_model_module": "@jupyter-widgets/controls"
          }
        },
        "a5f24e74d5604255b701dd2eb5a6e8eb": {
          "model_module": "@jupyter-widgets/base",
          "model_name": "LayoutModel",
          "model_module_version": "1.2.0",
          "state": {
            "_view_name": "LayoutView",
            "grid_template_rows": null,
            "right": null,
            "justify_content": null,
            "_view_module": "@jupyter-widgets/base",
            "overflow": null,
            "_model_module_version": "1.2.0",
            "_view_count": null,
            "flex_flow": null,
            "width": null,
            "min_width": null,
            "border": null,
            "align_items": null,
            "bottom": null,
            "_model_module": "@jupyter-widgets/base",
            "top": null,
            "grid_column": null,
            "overflow_y": null,
            "overflow_x": null,
            "grid_auto_flow": null,
            "grid_area": null,
            "grid_template_columns": null,
            "flex": null,
            "_model_name": "LayoutModel",
            "justify_items": null,
            "grid_row": null,
            "max_height": null,
            "align_content": null,
            "visibility": null,
            "align_self": null,
            "height": null,
            "min_height": null,
            "padding": null,
            "grid_auto_rows": null,
            "grid_gap": null,
            "max_width": null,
            "order": null,
            "_view_module_version": "1.2.0",
            "grid_template_areas": null,
            "object_position": null,
            "object_fit": null,
            "grid_auto_columns": null,
            "margin": null,
            "display": null,
            "left": null
          }
        },
        "fe2f40b595d3471fbb3d38644c2d7f15": {
          "model_module": "@jupyter-widgets/controls",
          "model_name": "ButtonStyleModel",
          "model_module_version": "1.5.0",
          "state": {
            "_view_name": "StyleView",
            "_model_name": "ButtonStyleModel",
            "_view_module": "@jupyter-widgets/base",
            "_model_module_version": "1.5.0",
            "_view_count": null,
            "button_color": null,
            "font_weight": "",
            "_view_module_version": "1.2.0",
            "_model_module": "@jupyter-widgets/controls"
          }
        },
        "d8ab48e1ab0744b5ba31f9ba65d438cb": {
          "model_module": "@jupyter-widgets/base",
          "model_name": "LayoutModel",
          "model_module_version": "1.2.0",
          "state": {
            "_view_name": "LayoutView",
            "grid_template_rows": null,
            "right": null,
            "justify_content": null,
            "_view_module": "@jupyter-widgets/base",
            "overflow": null,
            "_model_module_version": "1.2.0",
            "_view_count": null,
            "flex_flow": null,
            "width": null,
            "min_width": null,
            "border": null,
            "align_items": null,
            "bottom": null,
            "_model_module": "@jupyter-widgets/base",
            "top": null,
            "grid_column": null,
            "overflow_y": null,
            "overflow_x": null,
            "grid_auto_flow": null,
            "grid_area": null,
            "grid_template_columns": null,
            "flex": null,
            "_model_name": "LayoutModel",
            "justify_items": null,
            "grid_row": null,
            "max_height": null,
            "align_content": null,
            "visibility": null,
            "align_self": null,
            "height": null,
            "min_height": null,
            "padding": null,
            "grid_auto_rows": null,
            "grid_gap": null,
            "max_width": null,
            "order": null,
            "_view_module_version": "1.2.0",
            "grid_template_areas": null,
            "object_position": null,
            "object_fit": null,
            "grid_auto_columns": null,
            "margin": null,
            "display": null,
            "left": null
          }
        },
        "fb908214bbbc4561968e05de905d2da7": {
          "model_module": "@jupyter-widgets/controls",
          "model_name": "DescriptionStyleModel",
          "model_module_version": "1.5.0",
          "state": {
            "_view_name": "StyleView",
            "_model_name": "DescriptionStyleModel",
            "description_width": "",
            "_view_module": "@jupyter-widgets/base",
            "_model_module_version": "1.5.0",
            "_view_count": null,
            "_view_module_version": "1.2.0",
            "_model_module": "@jupyter-widgets/controls"
          }
        },
        "14ca62420d2c476db90aad1ca8a5e0d9": {
          "model_module": "@jupyter-widgets/base",
          "model_name": "LayoutModel",
          "model_module_version": "1.2.0",
          "state": {
            "_view_name": "LayoutView",
            "grid_template_rows": null,
            "right": null,
            "justify_content": null,
            "_view_module": "@jupyter-widgets/base",
            "overflow": null,
            "_model_module_version": "1.2.0",
            "_view_count": null,
            "flex_flow": null,
            "width": null,
            "min_width": null,
            "border": null,
            "align_items": null,
            "bottom": null,
            "_model_module": "@jupyter-widgets/base",
            "top": null,
            "grid_column": null,
            "overflow_y": null,
            "overflow_x": null,
            "grid_auto_flow": null,
            "grid_area": null,
            "grid_template_columns": null,
            "flex": null,
            "_model_name": "LayoutModel",
            "justify_items": null,
            "grid_row": null,
            "max_height": null,
            "align_content": null,
            "visibility": null,
            "align_self": null,
            "height": null,
            "min_height": null,
            "padding": null,
            "grid_auto_rows": null,
            "grid_gap": null,
            "max_width": null,
            "order": null,
            "_view_module_version": "1.2.0",
            "grid_template_areas": null,
            "object_position": null,
            "object_fit": null,
            "grid_auto_columns": null,
            "margin": null,
            "display": null,
            "left": null
          }
        },
        "8e571178c06b42b09af21de3ac8fdca0": {
          "model_module": "@jupyter-widgets/base",
          "model_name": "LayoutModel",
          "model_module_version": "1.2.0",
          "state": {
            "_view_name": "LayoutView",
            "grid_template_rows": null,
            "right": null,
            "justify_content": null,
            "_view_module": "@jupyter-widgets/base",
            "overflow": null,
            "_model_module_version": "1.2.0",
            "_view_count": null,
            "flex_flow": null,
            "width": null,
            "min_width": null,
            "border": null,
            "align_items": null,
            "bottom": null,
            "_model_module": "@jupyter-widgets/base",
            "top": null,
            "grid_column": null,
            "overflow_y": null,
            "overflow_x": null,
            "grid_auto_flow": null,
            "grid_area": null,
            "grid_template_columns": null,
            "flex": null,
            "_model_name": "LayoutModel",
            "justify_items": null,
            "grid_row": null,
            "max_height": null,
            "align_content": null,
            "visibility": null,
            "align_self": null,
            "height": null,
            "min_height": null,
            "padding": null,
            "grid_auto_rows": null,
            "grid_gap": null,
            "max_width": null,
            "order": null,
            "_view_module_version": "1.2.0",
            "grid_template_areas": null,
            "object_position": null,
            "object_fit": null,
            "grid_auto_columns": null,
            "margin": null,
            "display": null,
            "left": null
          }
        }
      }
    }
  },
  "cells": [
    {
      "cell_type": "markdown",
      "metadata": {
        "id": "view-in-github",
        "colab_type": "text"
      },
      "source": [
        "<a href=\"https://colab.research.google.com/github/QDDse/petsavage/blob/main/pets_classification.ipynb\" target=\"_parent\"><img src=\"https://colab.research.google.com/assets/colab-badge.svg\" alt=\"Open In Colab\"/></a>"
      ]
    },
    {
      "cell_type": "code",
      "execution_count": 1,
      "metadata": {
        "colab": {
          "base_uri": "https://localhost:8080/"
        },
        "id": "HWrnoYDbq-Ry",
        "outputId": "d0aa896e-7b3f-40f8-b9dd-ec4ed3b61310"
      },
      "outputs": [
        {
          "output_type": "stream",
          "name": "stdout",
          "text": [
            "\u001b[K     |████████████████████████████████| 720 kB 8.4 MB/s \n",
            "\u001b[K     |████████████████████████████████| 1.2 MB 34.3 MB/s \n",
            "\u001b[K     |████████████████████████████████| 46 kB 3.9 MB/s \n",
            "\u001b[K     |████████████████████████████████| 189 kB 56.5 MB/s \n",
            "\u001b[K     |████████████████████████████████| 56 kB 4.3 MB/s \n",
            "\u001b[K     |████████████████████████████████| 51 kB 295 kB/s \n",
            "\u001b[?25h"
          ]
        }
      ],
      "source": [
        "!pip install -Uqq fastbook"
      ]
    },
    {
      "cell_type": "code",
      "source": [
        "import fastbook\n",
        "fastbook.setup_book()\n",
        "\n",
        "from fastbook import*\n",
        "from fastai.vision.widgets import*"
      ],
      "metadata": {
        "id": "PyZVHi06rC_X",
        "colab": {
          "base_uri": "https://localhost:8080/"
        },
        "outputId": "6d59bcac-f1b1-4970-92e5-863876d21b24"
      },
      "execution_count": 2,
      "outputs": [
        {
          "output_type": "stream",
          "name": "stdout",
          "text": [
            "Mounted at /content/gdrive\n"
          ]
        }
      ]
    },
    {
      "cell_type": "code",
      "source": [
        "def label_func(f):\n",
        "  if f[0].isupper():\n",
        "    return \"Cat\"\n",
        "  else:\n",
        "    return \"Dog\"\n",
        "    "
      ],
      "metadata": {
        "id": "JnRVXcETSuPP"
      },
      "execution_count": 3,
      "outputs": []
    },
    {
      "cell_type": "code",
      "source": [
        "path_pet = untar_data(URLs.PETS,archive='/content/gdrive/MyDrive')\n",
        "path_pet"
      ],
      "metadata": {
        "colab": {
          "base_uri": "https://localhost:8080/",
          "height": 55
        },
        "id": "rjEcZDJ2Tow3",
        "outputId": "35f91dc4-167f-4936-8544-dc6637c0238c"
      },
      "execution_count": 4,
      "outputs": [
        {
          "output_type": "display_data",
          "data": {
            "text/html": [
              "\n",
              "    <div>\n",
              "        <style>\n",
              "            /* Turns off some styling */\n",
              "            progress {\n",
              "                /* gets rid of default border in Firefox and Opera. */\n",
              "                border: none;\n",
              "                /* Needs to be in here for Safari polyfill so background images work as expected. */\n",
              "                background-size: auto;\n",
              "            }\n",
              "            .progress-bar-interrupted, .progress-bar-interrupted::-webkit-progress-bar {\n",
              "                background: #F44336;\n",
              "            }\n",
              "        </style>\n",
              "      <progress value='811712512' class='' max='811706944' style='width:300px; height:20px; vertical-align: middle;'></progress>\n",
              "      100.00% [811712512/811706944 00:19<00:00]\n",
              "    </div>\n",
              "    "
            ],
            "text/plain": [
              "<IPython.core.display.HTML object>"
            ]
          },
          "metadata": {}
        },
        {
          "output_type": "execute_result",
          "data": {
            "text/plain": [
              "Path('/root/.fastai/data/oxford-iiit-pet')"
            ]
          },
          "metadata": {},
          "execution_count": 4
        }
      ]
    },
    {
      "cell_type": "code",
      "source": [
        "item_tfms = RandomResizedCrop(128,min_scale=0.3)"
      ],
      "metadata": {
        "id": "SHv1dyV5TOIR"
      },
      "execution_count": null,
      "outputs": []
    },
    {
      "cell_type": "code",
      "source": [
        "dls_pet = ImageDataLoaders.from_folder()"
      ],
      "metadata": {
        "id": "EdbhphvBUyy5"
      },
      "execution_count": null,
      "outputs": []
    },
    {
      "cell_type": "code",
      "source": [
        "learn_pet = load_learner('/content/gdrive/MyDrive/learn_petv2.pkl',pickle_module=pickle)\n",
        "learn_pet"
      ],
      "metadata": {
        "colab": {
          "base_uri": "https://localhost:8080/"
        },
        "id": "KZvpJj3YrKbt",
        "outputId": "ba57f29c-bf1a-40e3-a650-7020ff92d204"
      },
      "execution_count": 5,
      "outputs": [
        {
          "output_type": "execute_result",
          "data": {
            "text/plain": [
              "<fastai.learner.Learner at 0x7fde7864c790>"
            ]
          },
          "metadata": {},
          "execution_count": 5
        }
      ]
    },
    {
      "cell_type": "code",
      "source": [
        "learn_pet.predict('/content/gdrive/MyDrive/Dog.jpg')"
      ],
      "metadata": {
        "id": "9uoB53zwDf1r"
      },
      "execution_count": null,
      "outputs": []
    },
    {
      "cell_type": "markdown",
      "source": [
        "### **使用** Voila 和 ipywidgets进行部署"
      ],
      "metadata": {
        "id": "yEbamUMJDo_y"
      }
    },
    {
      "cell_type": "code",
      "source": [
        "from fastbook import*\n",
        "from fastai.vision.widgets import *"
      ],
      "metadata": {
        "id": "Z0x-fd8XEU5o"
      },
      "execution_count": 8,
      "outputs": []
    },
    {
      "cell_type": "code",
      "source": [
        "# 用widgets（ipywidgets）和Voila package 进行app deployment\n",
        "btn_upload = widgets.FileUpload()\n",
        "btn_upload\n",
        "# out btn\n",
        "out_pl = widgets.Output()\n",
        "# btn_run\n",
        "btn_run = widgets.Button(description='Classify')\n",
        "#labels pred\n",
        "lbl_pred = widgets.Label()\n",
        "# on_click\n",
        "def on_click_classify(change):\n",
        "    img = PILImage.create(btn_upload.data[-1])\n",
        "    out_pl.clear_output()\n",
        "    with out_pl: display(img.to_thumb(128,128))\n",
        "    pred,pred_idx,probs = learn_pet.predict(img)\n",
        "    lbl_pred.value = f'Prediction: {pred}; Probability: {probs[pred_idx]:.04f}'\n",
        "\n",
        "btn_run.on_click(on_click_classify)\n",
        "#VBox\n",
        "VBox([widgets.Label('Select your image!'), \n",
        "      btn_upload, btn_run, out_pl, lbl_pred])"
      ],
      "metadata": {
        "colab": {
          "base_uri": "https://localhost:8080/",
          "height": 273,
          "referenced_widgets": [
            "69bf5ec7c4454e1b9b55387b462818d8",
            "387918f62599414996c254f03fff86be",
            "e6853d086ce04c90abe6f3a35012068f",
            "99f6444427394b54b61e40b25c67f28f",
            "6d6692fd300b4b19a8c75fa58d944283",
            "c935a4adec5c4375832b512c679a257c",
            "37de93fcd55f4e3e9a8585d493f7f09e",
            "7c33fe1a153a4c618e43a4eb9bc4bc38",
            "6691f2c303cf43338677258e7e26968d",
            "5b2de70b84a2446f8df16f24e771d075",
            "a5f24e74d5604255b701dd2eb5a6e8eb",
            "fe2f40b595d3471fbb3d38644c2d7f15",
            "d8ab48e1ab0744b5ba31f9ba65d438cb",
            "fb908214bbbc4561968e05de905d2da7",
            "14ca62420d2c476db90aad1ca8a5e0d9",
            "8e571178c06b42b09af21de3ac8fdca0"
          ]
        },
        "id": "2v4G4Nj7D9ow",
        "outputId": "8b977a8c-60a1-415d-c2e0-cb2d8448ad7d"
      },
      "execution_count": 10,
      "outputs": [
        {
          "output_type": "display_data",
          "data": {
            "application/vnd.jupyter.widget-view+json": {
              "model_id": "69bf5ec7c4454e1b9b55387b462818d8",
              "version_minor": 0,
              "version_major": 2
            },
            "text/plain": [
              "VBox(children=(Label(value='Select your image!'), FileUpload(value={}, description='Upload'), Button(descripti…"
            ]
          },
          "metadata": {}
        },
        {
          "output_type": "display_data",
          "data": {
            "text/html": [
              ""
            ],
            "text/plain": [
              "<IPython.core.display.HTML object>"
            ]
          },
          "metadata": {}
        },
        {
          "output_type": "display_data",
          "data": {
            "text/html": [
              ""
            ],
            "text/plain": [
              "<IPython.core.display.HTML object>"
            ]
          },
          "metadata": {}
        }
      ]
    }
  ]
}